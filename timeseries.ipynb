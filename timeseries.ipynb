{
  "nbformat": 4,
  "nbformat_minor": 0,
  "metadata": {
    "colab": {
      "name": "timeseries.ipynb",
      "provenance": [],
      "authorship_tag": "ABX9TyMaV+ni7iX9ucgd7+iePzbl",
      "include_colab_link": true
    },
    "kernelspec": {
      "name": "python3",
      "display_name": "Python 3"
    },
    "language_info": {
      "name": "python"
    },
    "widgets": {
      "application/vnd.jupyter.widget-state+json": {
        "27c5437d99f3404aa7d0d9cb6c7d80c9": {
          "model_module": "@jupyter-widgets/controls",
          "model_name": "HBoxModel",
          "state": {
            "_view_name": "HBoxView",
            "_dom_classes": [],
            "_model_name": "HBoxModel",
            "_view_module": "@jupyter-widgets/controls",
            "_model_module_version": "1.5.0",
            "_view_count": null,
            "_view_module_version": "1.5.0",
            "box_style": "",
            "layout": "IPY_MODEL_1aaf09df72a34e1aa298878a46efdf9d",
            "_model_module": "@jupyter-widgets/controls",
            "children": [
              "IPY_MODEL_c26d6ac1061c48ca92b5bf75e6e83047",
              "IPY_MODEL_696d340aefa649c1942f6dc4ba6034b5"
            ]
          }
        },
        "1aaf09df72a34e1aa298878a46efdf9d": {
          "model_module": "@jupyter-widgets/base",
          "model_name": "LayoutModel",
          "state": {
            "_view_name": "LayoutView",
            "grid_template_rows": null,
            "right": null,
            "justify_content": null,
            "_view_module": "@jupyter-widgets/base",
            "overflow": null,
            "_model_module_version": "1.2.0",
            "_view_count": null,
            "flex_flow": null,
            "width": null,
            "min_width": null,
            "border": null,
            "align_items": null,
            "bottom": null,
            "_model_module": "@jupyter-widgets/base",
            "top": null,
            "grid_column": null,
            "overflow_y": null,
            "overflow_x": null,
            "grid_auto_flow": null,
            "grid_area": null,
            "grid_template_columns": null,
            "flex": null,
            "_model_name": "LayoutModel",
            "justify_items": null,
            "grid_row": null,
            "max_height": null,
            "align_content": null,
            "visibility": null,
            "align_self": null,
            "height": null,
            "min_height": null,
            "padding": null,
            "grid_auto_rows": null,
            "grid_gap": null,
            "max_width": null,
            "order": null,
            "_view_module_version": "1.2.0",
            "grid_template_areas": null,
            "object_position": null,
            "object_fit": null,
            "grid_auto_columns": null,
            "margin": null,
            "display": null,
            "left": null
          }
        },
        "c26d6ac1061c48ca92b5bf75e6e83047": {
          "model_module": "@jupyter-widgets/controls",
          "model_name": "FloatProgressModel",
          "state": {
            "_view_name": "ProgressView",
            "style": "IPY_MODEL_4dd5bdff26844bf0bf10814f50345aca",
            "_dom_classes": [],
            "description": "100%",
            "_model_name": "FloatProgressModel",
            "bar_style": "success",
            "max": 18,
            "_view_module": "@jupyter-widgets/controls",
            "_model_module_version": "1.5.0",
            "value": 18,
            "_view_count": null,
            "_view_module_version": "1.5.0",
            "orientation": "horizontal",
            "min": 0,
            "description_tooltip": null,
            "_model_module": "@jupyter-widgets/controls",
            "layout": "IPY_MODEL_77ccf49c5e3c4421a52b40cca6195c06"
          }
        },
        "696d340aefa649c1942f6dc4ba6034b5": {
          "model_module": "@jupyter-widgets/controls",
          "model_name": "HTMLModel",
          "state": {
            "_view_name": "HTMLView",
            "style": "IPY_MODEL_5bac3371f6cf46cbbbb35e40078785fb",
            "_dom_classes": [],
            "description": "",
            "_model_name": "HTMLModel",
            "placeholder": "​",
            "_view_module": "@jupyter-widgets/controls",
            "_model_module_version": "1.5.0",
            "value": " 18/18 [01:06&lt;00:00,  3.68s/it]",
            "_view_count": null,
            "_view_module_version": "1.5.0",
            "description_tooltip": null,
            "_model_module": "@jupyter-widgets/controls",
            "layout": "IPY_MODEL_79a7f646be5f4898aacb1da9e951ccac"
          }
        },
        "4dd5bdff26844bf0bf10814f50345aca": {
          "model_module": "@jupyter-widgets/controls",
          "model_name": "ProgressStyleModel",
          "state": {
            "_view_name": "StyleView",
            "_model_name": "ProgressStyleModel",
            "description_width": "initial",
            "_view_module": "@jupyter-widgets/base",
            "_model_module_version": "1.5.0",
            "_view_count": null,
            "_view_module_version": "1.2.0",
            "bar_color": null,
            "_model_module": "@jupyter-widgets/controls"
          }
        },
        "77ccf49c5e3c4421a52b40cca6195c06": {
          "model_module": "@jupyter-widgets/base",
          "model_name": "LayoutModel",
          "state": {
            "_view_name": "LayoutView",
            "grid_template_rows": null,
            "right": null,
            "justify_content": null,
            "_view_module": "@jupyter-widgets/base",
            "overflow": null,
            "_model_module_version": "1.2.0",
            "_view_count": null,
            "flex_flow": null,
            "width": null,
            "min_width": null,
            "border": null,
            "align_items": null,
            "bottom": null,
            "_model_module": "@jupyter-widgets/base",
            "top": null,
            "grid_column": null,
            "overflow_y": null,
            "overflow_x": null,
            "grid_auto_flow": null,
            "grid_area": null,
            "grid_template_columns": null,
            "flex": null,
            "_model_name": "LayoutModel",
            "justify_items": null,
            "grid_row": null,
            "max_height": null,
            "align_content": null,
            "visibility": null,
            "align_self": null,
            "height": null,
            "min_height": null,
            "padding": null,
            "grid_auto_rows": null,
            "grid_gap": null,
            "max_width": null,
            "order": null,
            "_view_module_version": "1.2.0",
            "grid_template_areas": null,
            "object_position": null,
            "object_fit": null,
            "grid_auto_columns": null,
            "margin": null,
            "display": null,
            "left": null
          }
        },
        "5bac3371f6cf46cbbbb35e40078785fb": {
          "model_module": "@jupyter-widgets/controls",
          "model_name": "DescriptionStyleModel",
          "state": {
            "_view_name": "StyleView",
            "_model_name": "DescriptionStyleModel",
            "description_width": "",
            "_view_module": "@jupyter-widgets/base",
            "_model_module_version": "1.5.0",
            "_view_count": null,
            "_view_module_version": "1.2.0",
            "_model_module": "@jupyter-widgets/controls"
          }
        },
        "79a7f646be5f4898aacb1da9e951ccac": {
          "model_module": "@jupyter-widgets/base",
          "model_name": "LayoutModel",
          "state": {
            "_view_name": "LayoutView",
            "grid_template_rows": null,
            "right": null,
            "justify_content": null,
            "_view_module": "@jupyter-widgets/base",
            "overflow": null,
            "_model_module_version": "1.2.0",
            "_view_count": null,
            "flex_flow": null,
            "width": null,
            "min_width": null,
            "border": null,
            "align_items": null,
            "bottom": null,
            "_model_module": "@jupyter-widgets/base",
            "top": null,
            "grid_column": null,
            "overflow_y": null,
            "overflow_x": null,
            "grid_auto_flow": null,
            "grid_area": null,
            "grid_template_columns": null,
            "flex": null,
            "_model_name": "LayoutModel",
            "justify_items": null,
            "grid_row": null,
            "max_height": null,
            "align_content": null,
            "visibility": null,
            "align_self": null,
            "height": null,
            "min_height": null,
            "padding": null,
            "grid_auto_rows": null,
            "grid_gap": null,
            "max_width": null,
            "order": null,
            "_view_module_version": "1.2.0",
            "grid_template_areas": null,
            "object_position": null,
            "object_fit": null,
            "grid_auto_columns": null,
            "margin": null,
            "display": null,
            "left": null
          }
        }
      }
    }
  },
  "cells": [
    {
      "cell_type": "markdown",
      "metadata": {
        "id": "view-in-github",
        "colab_type": "text"
      },
      "source": [
        "<a href=\"https://colab.research.google.com/github/nitkum41/Data-Science/blob/main/timeseries.ipynb\" target=\"_parent\"><img src=\"https://colab.research.google.com/assets/colab-badge.svg\" alt=\"Open In Colab\"/></a>"
      ]
    },
    {
      "cell_type": "code",
      "metadata": {
        "id": "WLeiXSJ8AdbD"
      },
      "source": [
        "import pandas as pd\n",
        "\n",
        "df = pd.read_csv('/content/bitcoin_prices.csv')"
      ],
      "execution_count": null,
      "outputs": []
    },
    {
      "cell_type": "code",
      "metadata": {
        "colab": {
          "base_uri": "https://localhost:8080/",
          "height": 419
        },
        "id": "Usym62vPEiZ6",
        "outputId": "6d34f0f1-728c-40fe-c60b-d4f8fa22bb98"
      },
      "source": [
        "df"
      ],
      "execution_count": null,
      "outputs": [
        {
          "output_type": "execute_result",
          "data": {
            "text/html": [
              "<div>\n",
              "<style scoped>\n",
              "    .dataframe tbody tr th:only-of-type {\n",
              "        vertical-align: middle;\n",
              "    }\n",
              "\n",
              "    .dataframe tbody tr th {\n",
              "        vertical-align: top;\n",
              "    }\n",
              "\n",
              "    .dataframe thead th {\n",
              "        text-align: right;\n",
              "    }\n",
              "</style>\n",
              "<table border=\"1\" class=\"dataframe\">\n",
              "  <thead>\n",
              "    <tr style=\"text-align: right;\">\n",
              "      <th></th>\n",
              "      <th>Unnamed: 0</th>\n",
              "      <th>Date</th>\n",
              "      <th>Value</th>\n",
              "    </tr>\n",
              "  </thead>\n",
              "  <tbody>\n",
              "    <tr>\n",
              "      <th>0</th>\n",
              "      <td>0</td>\n",
              "      <td>2016-01-01</td>\n",
              "      <td>432.33</td>\n",
              "    </tr>\n",
              "    <tr>\n",
              "      <th>1</th>\n",
              "      <td>1</td>\n",
              "      <td>2016-01-02</td>\n",
              "      <td>433.94</td>\n",
              "    </tr>\n",
              "    <tr>\n",
              "      <th>2</th>\n",
              "      <td>2</td>\n",
              "      <td>2016-01-03</td>\n",
              "      <td>428.13</td>\n",
              "    </tr>\n",
              "    <tr>\n",
              "      <th>3</th>\n",
              "      <td>3</td>\n",
              "      <td>2016-01-04</td>\n",
              "      <td>433.00</td>\n",
              "    </tr>\n",
              "    <tr>\n",
              "      <th>4</th>\n",
              "      <td>4</td>\n",
              "      <td>2016-01-05</td>\n",
              "      <td>431.90</td>\n",
              "    </tr>\n",
              "    <tr>\n",
              "      <th>...</th>\n",
              "      <td>...</td>\n",
              "      <td>...</td>\n",
              "      <td>...</td>\n",
              "    </tr>\n",
              "    <tr>\n",
              "      <th>1884</th>\n",
              "      <td>1884</td>\n",
              "      <td>2021-02-27</td>\n",
              "      <td>46340.31</td>\n",
              "    </tr>\n",
              "    <tr>\n",
              "      <th>1885</th>\n",
              "      <td>1885</td>\n",
              "      <td>2021-02-28</td>\n",
              "      <td>46155.87</td>\n",
              "    </tr>\n",
              "    <tr>\n",
              "      <th>1886</th>\n",
              "      <td>1886</td>\n",
              "      <td>2021-03-01</td>\n",
              "      <td>45113.92</td>\n",
              "    </tr>\n",
              "    <tr>\n",
              "      <th>1887</th>\n",
              "      <td>1887</td>\n",
              "      <td>2021-03-02</td>\n",
              "      <td>49618.43</td>\n",
              "    </tr>\n",
              "    <tr>\n",
              "      <th>1888</th>\n",
              "      <td>1888</td>\n",
              "      <td>2021-03-03</td>\n",
              "      <td>48356.04</td>\n",
              "    </tr>\n",
              "  </tbody>\n",
              "</table>\n",
              "<p>1889 rows × 3 columns</p>\n",
              "</div>"
            ],
            "text/plain": [
              "      Unnamed: 0        Date     Value\n",
              "0              0  2016-01-01    432.33\n",
              "1              1  2016-01-02    433.94\n",
              "2              2  2016-01-03    428.13\n",
              "3              3  2016-01-04    433.00\n",
              "4              4  2016-01-05    431.90\n",
              "...          ...         ...       ...\n",
              "1884        1884  2021-02-27  46340.31\n",
              "1885        1885  2021-02-28  46155.87\n",
              "1886        1886  2021-03-01  45113.92\n",
              "1887        1887  2021-03-02  49618.43\n",
              "1888        1888  2021-03-03  48356.04\n",
              "\n",
              "[1889 rows x 3 columns]"
            ]
          },
          "metadata": {
            "tags": []
          },
          "execution_count": 25
        }
      ]
    },
    {
      "cell_type": "code",
      "metadata": {
        "colab": {
          "base_uri": "https://localhost:8080/"
        },
        "id": "-dyDA3MpFGJQ",
        "outputId": "35ad5ad5-4d81-4208-f358-bd7292a7038f"
      },
      "source": [
        "df.columns"
      ],
      "execution_count": null,
      "outputs": [
        {
          "output_type": "execute_result",
          "data": {
            "text/plain": [
              "Index(['Unnamed: 0', 'Date', 'Value'], dtype='object')"
            ]
          },
          "metadata": {
            "tags": []
          },
          "execution_count": 26
        }
      ]
    },
    {
      "cell_type": "code",
      "metadata": {
        "colab": {
          "base_uri": "https://localhost:8080/",
          "height": 419
        },
        "id": "KCuzvPqCFmyg",
        "outputId": "a695ac46-84bb-449c-c65f-988fb13faa9f"
      },
      "source": [
        "df.drop(['Unnamed: 0'],axis=1)"
      ],
      "execution_count": null,
      "outputs": [
        {
          "output_type": "execute_result",
          "data": {
            "text/html": [
              "<div>\n",
              "<style scoped>\n",
              "    .dataframe tbody tr th:only-of-type {\n",
              "        vertical-align: middle;\n",
              "    }\n",
              "\n",
              "    .dataframe tbody tr th {\n",
              "        vertical-align: top;\n",
              "    }\n",
              "\n",
              "    .dataframe thead th {\n",
              "        text-align: right;\n",
              "    }\n",
              "</style>\n",
              "<table border=\"1\" class=\"dataframe\">\n",
              "  <thead>\n",
              "    <tr style=\"text-align: right;\">\n",
              "      <th></th>\n",
              "      <th>ds</th>\n",
              "      <th>y</th>\n",
              "    </tr>\n",
              "  </thead>\n",
              "  <tbody>\n",
              "    <tr>\n",
              "      <th>0</th>\n",
              "      <td>2016-01-01</td>\n",
              "      <td>432.33</td>\n",
              "    </tr>\n",
              "    <tr>\n",
              "      <th>1</th>\n",
              "      <td>2016-01-02</td>\n",
              "      <td>433.94</td>\n",
              "    </tr>\n",
              "    <tr>\n",
              "      <th>2</th>\n",
              "      <td>2016-01-03</td>\n",
              "      <td>428.13</td>\n",
              "    </tr>\n",
              "    <tr>\n",
              "      <th>3</th>\n",
              "      <td>2016-01-04</td>\n",
              "      <td>433.00</td>\n",
              "    </tr>\n",
              "    <tr>\n",
              "      <th>4</th>\n",
              "      <td>2016-01-05</td>\n",
              "      <td>431.90</td>\n",
              "    </tr>\n",
              "    <tr>\n",
              "      <th>...</th>\n",
              "      <td>...</td>\n",
              "      <td>...</td>\n",
              "    </tr>\n",
              "    <tr>\n",
              "      <th>1884</th>\n",
              "      <td>2021-02-27</td>\n",
              "      <td>46340.31</td>\n",
              "    </tr>\n",
              "    <tr>\n",
              "      <th>1885</th>\n",
              "      <td>2021-02-28</td>\n",
              "      <td>46155.87</td>\n",
              "    </tr>\n",
              "    <tr>\n",
              "      <th>1886</th>\n",
              "      <td>2021-03-01</td>\n",
              "      <td>45113.92</td>\n",
              "    </tr>\n",
              "    <tr>\n",
              "      <th>1887</th>\n",
              "      <td>2021-03-02</td>\n",
              "      <td>49618.43</td>\n",
              "    </tr>\n",
              "    <tr>\n",
              "      <th>1888</th>\n",
              "      <td>2021-03-03</td>\n",
              "      <td>48356.04</td>\n",
              "    </tr>\n",
              "  </tbody>\n",
              "</table>\n",
              "<p>1889 rows × 2 columns</p>\n",
              "</div>"
            ],
            "text/plain": [
              "              ds         y\n",
              "0     2016-01-01    432.33\n",
              "1     2016-01-02    433.94\n",
              "2     2016-01-03    428.13\n",
              "3     2016-01-04    433.00\n",
              "4     2016-01-05    431.90\n",
              "...          ...       ...\n",
              "1884  2021-02-27  46340.31\n",
              "1885  2021-02-28  46155.87\n",
              "1886  2021-03-01  45113.92\n",
              "1887  2021-03-02  49618.43\n",
              "1888  2021-03-03  48356.04\n",
              "\n",
              "[1889 rows x 2 columns]"
            ]
          },
          "metadata": {
            "tags": []
          },
          "execution_count": 33
        }
      ]
    },
    {
      "cell_type": "code",
      "metadata": {
        "id": "hSRgRNVVF3yR"
      },
      "source": [
        "df"
      ],
      "execution_count": null,
      "outputs": []
    },
    {
      "cell_type": "code",
      "metadata": {
        "id": "yY9haD40F4a_"
      },
      "source": [
        "df.rename(columns={'Date':\"ds\",'Value':\"y\"},inplace=True)"
      ],
      "execution_count": null,
      "outputs": []
    },
    {
      "cell_type": "code",
      "metadata": {
        "id": "le0u5tcbGcqg"
      },
      "source": [
        "df.drop(['Unnamed: 0'],axis=1,inplace=True)"
      ],
      "execution_count": null,
      "outputs": []
    },
    {
      "cell_type": "code",
      "metadata": {
        "colab": {
          "base_uri": "https://localhost:8080/",
          "height": 626
        },
        "id": "DKyVz6ayGdZQ",
        "outputId": "8d8664fd-f504-48d9-cc5f-9ecec879b97d"
      },
      "source": [
        "import matplotlib.pyplot as plt\n",
        "\n",
        "plt.style.use('ggplot')\n",
        "\n",
        "graph=df.set_index(\"ds\").plot(figsize=(20,10))\n",
        "graph.set_title(\"crypto price vs date\")\n",
        "graph.set_xlabel('date')\n",
        "graph.set_ylabel('crypto price')\n",
        "\n",
        "plt.show()"
      ],
      "execution_count": null,
      "outputs": [
        {
          "output_type": "display_data",
          "data": {
            "image/png": "[encoded data removed]",
            "text/plain": [
              "<Figure size 1440x720 with 1 Axes>"
            ]
          },
          "metadata": {
            "tags": []
          }
        }
      ]
    },
    {
      "cell_type": "code",
      "metadata": {
        "id": "7IXJk2bTJiHS"
      },
      "source": [
        "from fbprophet import Prophet"
      ],
      "execution_count": null,
      "outputs": []
    },
    {
      "cell_type": "code",
      "metadata": {
        "colab": {
          "base_uri": "https://localhost:8080/"
        },
        "id": "LIjZ3hF_Jl6A",
        "outputId": "15346aab-0f30-49ab-ca0b-4dcbfc2db2fa"
      },
      "source": [
        "Prophet"
      ],
      "execution_count": null,
      "outputs": [
        {
          "output_type": "execute_result",
          "data": {
            "text/plain": [
              "fbprophet.forecaster.Prophet"
            ]
          },
          "metadata": {
            "tags": []
          },
          "execution_count": 44
        }
      ]
    },
    {
      "cell_type": "code",
      "metadata": {
        "colab": {
          "base_uri": "https://localhost:8080/"
        },
        "id": "kCv0Q7ZGJoeg",
        "outputId": "cdfcedd8-bfa0-47b6-9a63-7d5dd61e0f97"
      },
      "source": [
        "INTERVAL_WIDTH = 0.9\n",
        "model = Prophet(interval_width=INTERVAL_WIDTH,daily_seasonality=True)\n",
        "model.fit(df)"
      ],
      "execution_count": null,
      "outputs": [
        {
          "output_type": "stream",
          "text": [
            "INFO:numexpr.utils:NumExpr defaulting to 2 threads.\n"
          ],
          "name": "stderr"
        },
        {
          "output_type": "execute_result",
          "data": {
            "text/plain": [
              "<fbprophet.forecaster.Prophet at 0x7fada3f0b850>"
            ]
          },
          "metadata": {
            "tags": []
          },
          "execution_count": 45
        }
      ]
    },
    {
      "cell_type": "code",
      "metadata": {
        "colab": {
          "base_uri": "https://localhost:8080/",
          "height": 419
        },
        "id": "yDuH94D9Kdbh",
        "outputId": "da94afed-f44f-4390-9cad-05bf46b30f78"
      },
      "source": [
        "future_df=model.make_future_dataframe(periods=100,freq=\"D\")\n",
        "future_df"
      ],
      "execution_count": null,
      "outputs": [
        {
          "output_type": "execute_result",
          "data": {
            "text/html": [
              "<div>\n",
              "<style scoped>\n",
              "    .dataframe tbody tr th:only-of-type {\n",
              "        vertical-align: middle;\n",
              "    }\n",
              "\n",
              "    .dataframe tbody tr th {\n",
              "        vertical-align: top;\n",
              "    }\n",
              "\n",
              "    .dataframe thead th {\n",
              "        text-align: right;\n",
              "    }\n",
              "</style>\n",
              "<table border=\"1\" class=\"dataframe\">\n",
              "  <thead>\n",
              "    <tr style=\"text-align: right;\">\n",
              "      <th></th>\n",
              "      <th>ds</th>\n",
              "    </tr>\n",
              "  </thead>\n",
              "  <tbody>\n",
              "    <tr>\n",
              "      <th>0</th>\n",
              "      <td>2016-01-01</td>\n",
              "    </tr>\n",
              "    <tr>\n",
              "      <th>1</th>\n",
              "      <td>2016-01-02</td>\n",
              "    </tr>\n",
              "    <tr>\n",
              "      <th>2</th>\n",
              "      <td>2016-01-03</td>\n",
              "    </tr>\n",
              "    <tr>\n",
              "      <th>3</th>\n",
              "      <td>2016-01-04</td>\n",
              "    </tr>\n",
              "    <tr>\n",
              "      <th>4</th>\n",
              "      <td>2016-01-05</td>\n",
              "    </tr>\n",
              "    <tr>\n",
              "      <th>...</th>\n",
              "      <td>...</td>\n",
              "    </tr>\n",
              "    <tr>\n",
              "      <th>1984</th>\n",
              "      <td>2021-06-07</td>\n",
              "    </tr>\n",
              "    <tr>\n",
              "      <th>1985</th>\n",
              "      <td>2021-06-08</td>\n",
              "    </tr>\n",
              "    <tr>\n",
              "      <th>1986</th>\n",
              "      <td>2021-06-09</td>\n",
              "    </tr>\n",
              "    <tr>\n",
              "      <th>1987</th>\n",
              "      <td>2021-06-10</td>\n",
              "    </tr>\n",
              "    <tr>\n",
              "      <th>1988</th>\n",
              "      <td>2021-06-11</td>\n",
              "    </tr>\n",
              "  </tbody>\n",
              "</table>\n",
              "<p>1989 rows × 1 columns</p>\n",
              "</div>"
            ],
            "text/plain": [
              "             ds\n",
              "0    2016-01-01\n",
              "1    2016-01-02\n",
              "2    2016-01-03\n",
              "3    2016-01-04\n",
              "4    2016-01-05\n",
              "...         ...\n",
              "1984 2021-06-07\n",
              "1985 2021-06-08\n",
              "1986 2021-06-09\n",
              "1987 2021-06-10\n",
              "1988 2021-06-11\n",
              "\n",
              "[1989 rows x 1 columns]"
            ]
          },
          "metadata": {
            "tags": []
          },
          "execution_count": 47
        }
      ]
    },
    {
      "cell_type": "code",
      "metadata": {
        "id": "jHGzFs0bKxrh"
      },
      "source": [
        "predict = model.predict(future_df)\n",
        "predict_100_days = predict[['yhat']].iloc[[-1]]"
      ],
      "execution_count": null,
      "outputs": []
    },
    {
      "cell_type": "code",
      "metadata": {
        "colab": {
          "base_uri": "https://localhost:8080/",
          "height": 80
        },
        "id": "Fza6KHbGLtTy",
        "outputId": "eafe751d-88cc-4181-a4c8-4c2d06c5ee4c"
      },
      "source": [
        "predict_100_days"
      ],
      "execution_count": null,
      "outputs": [
        {
          "output_type": "execute_result",
          "data": {
            "text/html": [
              "<div>\n",
              "<style scoped>\n",
              "    .dataframe tbody tr th:only-of-type {\n",
              "        vertical-align: middle;\n",
              "    }\n",
              "\n",
              "    .dataframe tbody tr th {\n",
              "        vertical-align: top;\n",
              "    }\n",
              "\n",
              "    .dataframe thead th {\n",
              "        text-align: right;\n",
              "    }\n",
              "</style>\n",
              "<table border=\"1\" class=\"dataframe\">\n",
              "  <thead>\n",
              "    <tr style=\"text-align: right;\">\n",
              "      <th></th>\n",
              "      <th>yhat</th>\n",
              "    </tr>\n",
              "  </thead>\n",
              "  <tbody>\n",
              "    <tr>\n",
              "      <th>1988</th>\n",
              "      <td>38190.201409</td>\n",
              "    </tr>\n",
              "  </tbody>\n",
              "</table>\n",
              "</div>"
            ],
            "text/plain": [
              "              yhat\n",
              "1988  38190.201409"
            ]
          },
          "metadata": {
            "tags": []
          },
          "execution_count": 54
        }
      ]
    },
    {
      "cell_type": "code",
      "metadata": {
        "colab": {
          "base_uri": "https://localhost:8080/",
          "height": 485,
          "referenced_widgets": [
            "27c5437d99f3404aa7d0d9cb6c7d80c9",
            "1aaf09df72a34e1aa298878a46efdf9d",
            "c26d6ac1061c48ca92b5bf75e6e83047",
            "696d340aefa649c1942f6dc4ba6034b5",
            "4dd5bdff26844bf0bf10814f50345aca",
            "77ccf49c5e3c4421a52b40cca6195c06",
            "5bac3371f6cf46cbbbb35e40078785fb",
            "79a7f646be5f4898aacb1da9e951ccac"
          ]
        },
        "id": "GVqetdAeMFx4",
        "outputId": "24c53a94-ac59-4dd6-942e-01f4e36c3168"
      },
      "source": [
        "from fbprophet.diagnostics import cross_validation\n",
        "\n",
        "df_cv=cross_validation(model,\n",
        "                       initial=\"900 days\",\n",
        "                       period=\"50 days\",\n",
        "                       horizon=\"100 days\"\n",
        "                       )\n",
        "df_cv"
      ],
      "execution_count": null,
      "outputs": [
        {
          "output_type": "stream",
          "text": [
            "INFO:fbprophet:Making 18 forecasts with cutoffs between 2018-07-27 00:00:00 and 2020-11-23 00:00:00\n"
          ],
          "name": "stderr"
        },
        {
          "output_type": "display_data",
          "data": {
            "application/vnd.jupyter.widget-view+json": {
              "model_id": "27c5437d99f3404aa7d0d9cb6c7d80c9",
              "version_minor": 0,
              "version_major": 2
            },
            "text/plain": [
              "HBox(children=(FloatProgress(value=0.0, max=18.0), HTML(value='')))"
            ]
          },
          "metadata": {
            "tags": []
          }
        },
        {
          "output_type": "stream",
          "text": [
            "\n"
          ],
          "name": "stdout"
        },
        {
          "output_type": "execute_result",
          "data": {
            "text/html": [
              "<div>\n",
              "<style scoped>\n",
              "    .dataframe tbody tr th:only-of-type {\n",
              "        vertical-align: middle;\n",
              "    }\n",
              "\n",
              "    .dataframe tbody tr th {\n",
              "        vertical-align: top;\n",
              "    }\n",
              "\n",
              "    .dataframe thead th {\n",
              "        text-align: right;\n",
              "    }\n",
              "</style>\n",
              "<table border=\"1\" class=\"dataframe\">\n",
              "  <thead>\n",
              "    <tr style=\"text-align: right;\">\n",
              "      <th></th>\n",
              "      <th>ds</th>\n",
              "      <th>yhat</th>\n",
              "      <th>yhat_lower</th>\n",
              "      <th>yhat_upper</th>\n",
              "      <th>y</th>\n",
              "      <th>cutoff</th>\n",
              "    </tr>\n",
              "  </thead>\n",
              "  <tbody>\n",
              "    <tr>\n",
              "      <th>0</th>\n",
              "      <td>2018-07-28</td>\n",
              "      <td>6242.744870</td>\n",
              "      <td>4848.404734</td>\n",
              "      <td>7626.533197</td>\n",
              "      <td>8182.251667</td>\n",
              "      <td>2018-07-27</td>\n",
              "    </tr>\n",
              "    <tr>\n",
              "      <th>1</th>\n",
              "      <td>2018-07-29</td>\n",
              "      <td>6176.777561</td>\n",
              "      <td>4830.697096</td>\n",
              "      <td>7519.966508</td>\n",
              "      <td>8206.341667</td>\n",
              "      <td>2018-07-27</td>\n",
              "    </tr>\n",
              "    <tr>\n",
              "      <th>2</th>\n",
              "      <td>2018-07-30</td>\n",
              "      <td>6130.833866</td>\n",
              "      <td>4788.072559</td>\n",
              "      <td>7495.955330</td>\n",
              "      <td>8143.148333</td>\n",
              "      <td>2018-07-27</td>\n",
              "    </tr>\n",
              "    <tr>\n",
              "      <th>3</th>\n",
              "      <td>2018-07-31</td>\n",
              "      <td>6093.279605</td>\n",
              "      <td>4685.806395</td>\n",
              "      <td>7422.386128</td>\n",
              "      <td>7916.800833</td>\n",
              "      <td>2018-07-27</td>\n",
              "    </tr>\n",
              "    <tr>\n",
              "      <th>4</th>\n",
              "      <td>2018-08-01</td>\n",
              "      <td>6032.744120</td>\n",
              "      <td>4694.500653</td>\n",
              "      <td>7400.763700</td>\n",
              "      <td>7570.869167</td>\n",
              "      <td>2018-07-27</td>\n",
              "    </tr>\n",
              "    <tr>\n",
              "      <th>...</th>\n",
              "      <td>...</td>\n",
              "      <td>...</td>\n",
              "      <td>...</td>\n",
              "      <td>...</td>\n",
              "      <td>...</td>\n",
              "      <td>...</td>\n",
              "    </tr>\n",
              "    <tr>\n",
              "      <th>1795</th>\n",
              "      <td>2021-02-27</td>\n",
              "      <td>13839.595208</td>\n",
              "      <td>11327.797157</td>\n",
              "      <td>16281.397288</td>\n",
              "      <td>46340.310000</td>\n",
              "      <td>2020-11-23</td>\n",
              "    </tr>\n",
              "    <tr>\n",
              "      <th>1796</th>\n",
              "      <td>2021-02-28</td>\n",
              "      <td>13815.920947</td>\n",
              "      <td>11201.027379</td>\n",
              "      <td>16422.538065</td>\n",
              "      <td>46155.870000</td>\n",
              "      <td>2020-11-23</td>\n",
              "    </tr>\n",
              "    <tr>\n",
              "      <th>1797</th>\n",
              "      <td>2021-03-01</td>\n",
              "      <td>13785.398694</td>\n",
              "      <td>11340.207338</td>\n",
              "      <td>16380.858337</td>\n",
              "      <td>45113.920000</td>\n",
              "      <td>2020-11-23</td>\n",
              "    </tr>\n",
              "    <tr>\n",
              "      <th>1798</th>\n",
              "      <td>2021-03-02</td>\n",
              "      <td>13761.825994</td>\n",
              "      <td>11080.894355</td>\n",
              "      <td>16292.165666</td>\n",
              "      <td>49618.430000</td>\n",
              "      <td>2020-11-23</td>\n",
              "    </tr>\n",
              "    <tr>\n",
              "      <th>1799</th>\n",
              "      <td>2021-03-03</td>\n",
              "      <td>13713.318896</td>\n",
              "      <td>11066.972866</td>\n",
              "      <td>16475.183365</td>\n",
              "      <td>48356.040000</td>\n",
              "      <td>2020-11-23</td>\n",
              "    </tr>\n",
              "  </tbody>\n",
              "</table>\n",
              "<p>1800 rows × 6 columns</p>\n",
              "</div>"
            ],
            "text/plain": [
              "             ds          yhat  ...             y     cutoff\n",
              "0    2018-07-28   6242.744870  ...   8182.251667 2018-07-27\n",
              "1    2018-07-29   6176.777561  ...   8206.341667 2018-07-27\n",
              "2    2018-07-30   6130.833866  ...   8143.148333 2018-07-27\n",
              "3    2018-07-31   6093.279605  ...   7916.800833 2018-07-27\n",
              "4    2018-08-01   6032.744120  ...   7570.869167 2018-07-27\n",
              "...         ...           ...  ...           ...        ...\n",
              "1795 2021-02-27  13839.595208  ...  46340.310000 2020-11-23\n",
              "1796 2021-02-28  13815.920947  ...  46155.870000 2020-11-23\n",
              "1797 2021-03-01  13785.398694  ...  45113.920000 2020-11-23\n",
              "1798 2021-03-02  13761.825994  ...  49618.430000 2020-11-23\n",
              "1799 2021-03-03  13713.318896  ...  48356.040000 2020-11-23\n",
              "\n",
              "[1800 rows x 6 columns]"
            ]
          },
          "metadata": {
            "tags": []
          },
          "execution_count": 56
        }
      ]
    },
    {
      "cell_type": "code",
      "metadata": {
        "colab": {
          "base_uri": "https://localhost:8080/",
          "height": 419
        },
        "id": "qL7BBhYKMo1x",
        "outputId": "b99966b1-d9f6-4b6d-d858-b3d2d2edf4de"
      },
      "source": [
        "from fbprophet.diagnostics import performance_metrics\n",
        "\n",
        "perf_df=performance_metrics(df_cv)\n",
        "perf_df"
      ],
      "execution_count": null,
      "outputs": [
        {
          "output_type": "execute_result",
          "data": {
            "text/html": [
              "<div>\n",
              "<style scoped>\n",
              "    .dataframe tbody tr th:only-of-type {\n",
              "        vertical-align: middle;\n",
              "    }\n",
              "\n",
              "    .dataframe tbody tr th {\n",
              "        vertical-align: top;\n",
              "    }\n",
              "\n",
              "    .dataframe thead th {\n",
              "        text-align: right;\n",
              "    }\n",
              "</style>\n",
              "<table border=\"1\" class=\"dataframe\">\n",
              "  <thead>\n",
              "    <tr style=\"text-align: right;\">\n",
              "      <th></th>\n",
              "      <th>horizon</th>\n",
              "      <th>mse</th>\n",
              "      <th>rmse</th>\n",
              "      <th>mae</th>\n",
              "      <th>mape</th>\n",
              "      <th>mdape</th>\n",
              "      <th>coverage</th>\n",
              "    </tr>\n",
              "  </thead>\n",
              "  <tbody>\n",
              "    <tr>\n",
              "      <th>0</th>\n",
              "      <td>10 days</td>\n",
              "      <td>5.505561e+06</td>\n",
              "      <td>2346.393263</td>\n",
              "      <td>1911.553035</td>\n",
              "      <td>0.240974</td>\n",
              "      <td>0.192566</td>\n",
              "      <td>0.550000</td>\n",
              "    </tr>\n",
              "    <tr>\n",
              "      <th>1</th>\n",
              "      <td>11 days</td>\n",
              "      <td>5.573224e+06</td>\n",
              "      <td>2360.767764</td>\n",
              "      <td>1915.496305</td>\n",
              "      <td>0.240224</td>\n",
              "      <td>0.190977</td>\n",
              "      <td>0.561111</td>\n",
              "    </tr>\n",
              "    <tr>\n",
              "      <th>2</th>\n",
              "      <td>12 days</td>\n",
              "      <td>5.547415e+06</td>\n",
              "      <td>2355.295051</td>\n",
              "      <td>1913.381035</td>\n",
              "      <td>0.240228</td>\n",
              "      <td>0.190977</td>\n",
              "      <td>0.561111</td>\n",
              "    </tr>\n",
              "    <tr>\n",
              "      <th>3</th>\n",
              "      <td>13 days</td>\n",
              "      <td>5.546127e+06</td>\n",
              "      <td>2355.021616</td>\n",
              "      <td>1913.843872</td>\n",
              "      <td>0.239538</td>\n",
              "      <td>0.190977</td>\n",
              "      <td>0.561111</td>\n",
              "    </tr>\n",
              "    <tr>\n",
              "      <th>4</th>\n",
              "      <td>14 days</td>\n",
              "      <td>5.571242e+06</td>\n",
              "      <td>2360.347768</td>\n",
              "      <td>1916.053554</td>\n",
              "      <td>0.237796</td>\n",
              "      <td>0.187156</td>\n",
              "      <td>0.572222</td>\n",
              "    </tr>\n",
              "    <tr>\n",
              "      <th>...</th>\n",
              "      <td>...</td>\n",
              "      <td>...</td>\n",
              "      <td>...</td>\n",
              "      <td>...</td>\n",
              "      <td>...</td>\n",
              "      <td>...</td>\n",
              "      <td>...</td>\n",
              "    </tr>\n",
              "    <tr>\n",
              "      <th>86</th>\n",
              "      <td>96 days</td>\n",
              "      <td>1.341835e+08</td>\n",
              "      <td>11583.758998</td>\n",
              "      <td>7401.397899</td>\n",
              "      <td>0.648473</td>\n",
              "      <td>0.599262</td>\n",
              "      <td>0.194444</td>\n",
              "    </tr>\n",
              "    <tr>\n",
              "      <th>87</th>\n",
              "      <td>97 days</td>\n",
              "      <td>1.359298e+08</td>\n",
              "      <td>11658.893440</td>\n",
              "      <td>7486.114607</td>\n",
              "      <td>0.651564</td>\n",
              "      <td>0.607962</td>\n",
              "      <td>0.200000</td>\n",
              "    </tr>\n",
              "    <tr>\n",
              "      <th>88</th>\n",
              "      <td>98 days</td>\n",
              "      <td>1.372774e+08</td>\n",
              "      <td>11716.543913</td>\n",
              "      <td>7571.951995</td>\n",
              "      <td>0.655613</td>\n",
              "      <td>0.614996</td>\n",
              "      <td>0.205556</td>\n",
              "    </tr>\n",
              "    <tr>\n",
              "      <th>89</th>\n",
              "      <td>99 days</td>\n",
              "      <td>1.376796e+08</td>\n",
              "      <td>11733.694395</td>\n",
              "      <td>7640.158622</td>\n",
              "      <td>0.659320</td>\n",
              "      <td>0.614996</td>\n",
              "      <td>0.211111</td>\n",
              "    </tr>\n",
              "    <tr>\n",
              "      <th>90</th>\n",
              "      <td>100 days</td>\n",
              "      <td>1.365090e+08</td>\n",
              "      <td>11683.705748</td>\n",
              "      <td>7678.648679</td>\n",
              "      <td>0.660900</td>\n",
              "      <td>0.623881</td>\n",
              "      <td>0.211111</td>\n",
              "    </tr>\n",
              "  </tbody>\n",
              "</table>\n",
              "<p>91 rows × 7 columns</p>\n",
              "</div>"
            ],
            "text/plain": [
              "    horizon           mse          rmse  ...      mape     mdape  coverage\n",
              "0   10 days  5.505561e+06   2346.393263  ...  0.240974  0.192566  0.550000\n",
              "1   11 days  5.573224e+06   2360.767764  ...  0.240224  0.190977  0.561111\n",
              "2   12 days  5.547415e+06   2355.295051  ...  0.240228  0.190977  0.561111\n",
              "3   13 days  5.546127e+06   2355.021616  ...  0.239538  0.190977  0.561111\n",
              "4   14 days  5.571242e+06   2360.347768  ...  0.237796  0.187156  0.572222\n",
              "..      ...           ...           ...  ...       ...       ...       ...\n",
              "86  96 days  1.341835e+08  11583.758998  ...  0.648473  0.599262  0.194444\n",
              "87  97 days  1.359298e+08  11658.893440  ...  0.651564  0.607962  0.200000\n",
              "88  98 days  1.372774e+08  11716.543913  ...  0.655613  0.614996  0.205556\n",
              "89  99 days  1.376796e+08  11733.694395  ...  0.659320  0.614996  0.211111\n",
              "90 100 days  1.365090e+08  11683.705748  ...  0.660900  0.623881  0.211111\n",
              "\n",
              "[91 rows x 7 columns]"
            ]
          },
          "metadata": {
            "tags": []
          },
          "execution_count": 57
        }
      ]
    },
    {
      "cell_type": "code",
      "metadata": {
        "colab": {
          "base_uri": "https://localhost:8080/",
          "height": 787
        },
        "id": "4JIso4Z3O8sD",
        "outputId": "7b252435-0fd3-4f4b-9f1e-9be67f6d042f"
      },
      "source": [
        "from fbprophet.plot import plot_cross_validation_metric\n",
        "plot_cross_validation_metric(df_cv,metric='mse')"
      ],
      "execution_count": null,
      "outputs": [
        {
          "output_type": "execute_result",
          "data": {
            "image/png": "[encoded data removed]",
            "text/plain": [
              "<Figure size 720x432 with 1 Axes>"
            ]
          },
          "metadata": {
            "tags": []
          },
          "execution_count": 60
        },
        {
          "output_type": "display_data",
          "data": {
            "image/png": "[encoded data removed]",
            "text/plain": [
              "<Figure size 720x432 with 1 Axes>"
            ]
          },
          "metadata": {
            "tags": []
          }
        }
      ]
    }
  ]
}