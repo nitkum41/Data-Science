{
  "nbformat": 4,
  "nbformat_minor": 0,
  "metadata": {
    "colab": {
      "name": "creating_tensors.ipynb",
      "provenance": [],
      "authorship_tag": "ABX9TyNnYbrCDp7Alxyd65Oc+QBr",
      "include_colab_link": true
    },
    "kernelspec": {
      "name": "python3",
      "display_name": "Python 3"
    },
    "language_info": {
      "name": "python"
    }
  },
  "cells": [
    {
      "cell_type": "markdown",
      "metadata": {
        "id": "view-in-github",
        "colab_type": "text"
      },
      "source": [
        "<a href=\"https://colab.research.google.com/github/nitkum41/Data-Science/blob/main/creating_tensors.ipynb\" target=\"_parent\"><img src=\"https://colab.research.google.com/assets/colab-badge.svg\" alt=\"Open In Colab\"/></a>"
      ]
    },
    {
      "cell_type": "code",
      "metadata": {
        "colab": {
          "base_uri": "https://localhost:8080/"
        },
        "id": "ZCxGFEpj23Lv",
        "outputId": "76dba19a-04fe-4515-c16c-b469541066c6"
      },
      "source": [
        "%tensorflow 2.x"
      ],
      "execution_count": null,
      "outputs": [
        {
          "output_type": "stream",
          "text": [
            "UsageError: Line magic function `%tensorflow` not found.\n"
          ],
          "name": "stderr"
        }
      ]
    },
    {
      "cell_type": "code",
      "metadata": {
        "colab": {
          "base_uri": "https://localhost:8080/",
          "height": 35
        },
        "id": "tjYUDYxd3Clu",
        "outputId": "1b17d0ca-25b7-44cf-a401-a48ce83c486e"
      },
      "source": [
        "import tensorflow as tf\n",
        "tf.__version__"
      ],
      "execution_count": null,
      "outputs": [
        {
          "output_type": "execute_result",
          "data": {
            "application/vnd.google.colaboratory.intrinsic+json": {
              "type": "string"
            },
            "text/plain": [
              "'2.4.1'"
            ]
          },
          "metadata": {
            "tags": []
          },
          "execution_count": 3
        }
      ]
    },
    {
      "cell_type": "code",
      "metadata": {
        "id": "cD25OpOQ3KDu"
      },
      "source": [
        "list1 = [1,2,3,4]\n",
        "tf_list1 = tf.convert_to_tensor(list1,dtype=tf.float32)\n",
        "\n",
        "list2 = [[1,2,3,4]]\n",
        "tf_list2 = tf.convert_to_tensor(list2,dtype=tf.float32)"
      ],
      "execution_count": null,
      "outputs": []
    },
    {
      "cell_type": "code",
      "metadata": {
        "colab": {
          "base_uri": "https://localhost:8080/"
        },
        "id": "cVrPFlB2_N9I",
        "outputId": "b48af9b9-d621-4eac-f39d-81637dfeb576"
      },
      "source": [
        "type(tf_list1)\n",
        "print(tf_list1)"
      ],
      "execution_count": null,
      "outputs": [
        {
          "output_type": "stream",
          "text": [
            "tf.Tensor([1. 2. 3. 4.], shape=(4,), dtype=float32)\n"
          ],
          "name": "stdout"
        }
      ]
    },
    {
      "cell_type": "code",
      "metadata": {
        "colab": {
          "base_uri": "https://localhost:8080/"
        },
        "id": "f2Hmlkhl_Qje",
        "outputId": "183aff54-34ef-49a1-9508-0e344c26a5cc"
      },
      "source": [
        "type(list2)\n",
        "print(tf_list2)"
      ],
      "execution_count": null,
      "outputs": [
        {
          "output_type": "stream",
          "text": [
            "tf.Tensor([[1. 2. 3. 4.]], shape=(1, 4), dtype=float32)\n"
          ],
          "name": "stdout"
        }
      ]
    },
    {
      "cell_type": "code",
      "metadata": {
        "id": "qMJ5szcJ_TJ-",
        "colab": {
          "base_uri": "https://localhost:8080/"
        },
        "outputId": "0806f106-40a5-43f9-9bff-36482e0f87f9"
      },
      "source": [
        "import numpy as np\n",
        "import pandas as pd\n",
        "\n",
        "arr1 = np.array([[1,2],[3,4]])\n",
        "tf_arr=tf.convert_to_tensor(arr1,dtype=tf.float32)\n",
        "print(tf_arr)"
      ],
      "execution_count": null,
      "outputs": [
        {
          "output_type": "stream",
          "text": [
            "tf.Tensor(\n",
            "[[1. 2.]\n",
            " [3. 4.]], shape=(2, 2), dtype=float32)\n"
          ],
          "name": "stdout"
        }
      ]
    },
    {
      "cell_type": "code",
      "metadata": {
        "id": "jXQ9JgT8B9uR"
      },
      "source": [
        ""
      ],
      "execution_count": null,
      "outputs": []
    }
  ]
}